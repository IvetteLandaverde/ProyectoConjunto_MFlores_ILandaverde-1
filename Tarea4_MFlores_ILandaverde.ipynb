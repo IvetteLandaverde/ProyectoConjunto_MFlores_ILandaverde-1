{
 "cells": [
  {
   "cell_type": "markdown",
   "id": "casual-response",
   "metadata": {},
   "source": [
    "<img style=\"float: left; margin: 30px 15px 15px 15px;\" src=\"https://pngimage.net/wp-content/uploads/2018/06/logo-iteso-png-5.png\" width=\"300\" height=\"500\" /> \n",
    "    \n",
    "    \n",
    "### <font color='navy'> Simulación de procesos financieros. \n",
    "\n",
    "**Nombres:** Moisés Flores Ortiz e Ivette Landaverde Mercado\n",
    "              \n",
    "\n",
    "**Fecha:** 15 de febrero del 2021.\n",
    "\n",
    "**Expediente** : Moisés Flores Ortiz: 722183. Ivette Landaverde Mercado: #####.\n",
    "**Profesor:** Oscar David Jaramillo Zuluaga.\n",
    "\n",
    "# Tarea 4: Clase 7"
   ]
  },
  {
   "cell_type": "markdown",
   "id": "careful-rebound",
   "metadata": {},
   "source": [
    "### Link de Github\n",
    "[Github](https://github.com/MoyMFO/ProyectoConjunto_MFlores_ILandaverde)"
   ]
  },
  {
   "cell_type": "code",
   "execution_count": 1,
   "id": "cathedral-spirit",
   "metadata": {},
   "outputs": [],
   "source": [
    "import random\n",
    "import numpy as np\n",
    "import matplotlib.pyplot as plt \n",
    "from functools import reduce\n",
    "import time"
   ]
  },
  {
   "cell_type": "markdown",
   "id": "accepting-retrieval",
   "metadata": {},
   "source": [
    "# Tarea\n",
    "\n",
    "# 1\n",
    "Como ejemplo simple de una simulación de Monte Carlo, considere calcular la probabilidad de una suma particular del lanzamiento de tres dados (cada dado tiene valores del uno al seis). Además cada dado tiene las siguientes carácterísticas: el primer dado no está cargado (distribución uniforme todos son equiprobables); el segundo y tercer dado están cargados basados en una distribución binomial con parámetros (`n=5, p=0.5` y `n=5, p=0.2`). Calcule la probabilidad de que la suma resultante sea 7, 14 o 18. "
   ]
  },
  {
   "cell_type": "code",
   "execution_count": 2,
   "id": "lyric-hotel",
   "metadata": {},
   "outputs": [],
   "source": [
    "# Solución\n"
   ]
  },
  {
   "cell_type": "markdown",
   "id": "extreme-value",
   "metadata": {},
   "source": [
    "### Solución 1: Moisés Flores"
   ]
  },
  {
   "cell_type": "code",
   "execution_count": 3,
   "id": "derived-assets",
   "metadata": {},
   "outputs": [],
   "source": [
    "# Solución\n",
    "#Imoprtamos librerias\n",
    "import numpy as np\n",
    "import matplotlib.pyplot as plt\n",
    "import pandas as pd\n",
    "import os\n",
    "import scipy.stats as st\n",
    "import seaborn as sns; sns.set()\n",
    "#Dado 1 con distribución normal uniforme\n",
    "dado_1 = np.random.randint(1,7,100000)\n",
    "#Dado 2 cargado en base a distribución binomial con n=5 y p=0.5\n",
    "dado_2 = st.binom(n=5,p=0.5,loc=1).rvs(size=100000)\n",
    "#Dado 3 cargado en base a distribución binomial con n=5, p=0.2\n",
    "dado_3 = st.binom(n=5,p=0.2,loc=1).rvs(size=100000)"
   ]
  },
  {
   "cell_type": "code",
   "execution_count": 4,
   "id": "bibliographic-producer",
   "metadata": {},
   "outputs": [
    {
     "name": "stdout",
     "output_type": "stream",
     "text": [
      "la probabilidad de que la suma sea 7: 0.12778\n",
      "la probabilidad de que la suma sea 14: 0.01373\n",
      "la probabilidad de que la suma sea 18: 0.0\n"
     ]
    }
   ],
   "source": [
    "#En el vector 'resultados_suma' se encuentran los resultados de cada juego\n",
    "resultados_suma = dado_1 + dado_2 + dado_3\n",
    "#Para la probabilidad que la suma resultante sea 7\n",
    "resultados_7 = len(resultados_suma[resultados_suma==7])/len(resultados_suma)\n",
    "print(f'la probabilidad de que la suma sea 7: {resultados_7}')\n",
    "#Para la probabilidad que la suma resultante sea 14\n",
    "resultados_14 = len(resultados_suma[resultados_suma==14])/len(resultados_suma)\n",
    "print(f'la probabilidad de que la suma sea 14: {resultados_14}')\n",
    "#Para la probabilidad que la suma resultante sea 18\n",
    "resultados_18 = len(resultados_suma[resultados_suma==18])/len(resultados_suma)\n",
    "print(f'la probabilidad de que la suma sea 18: {float(resultados_18)}')"
   ]
  },
  {
   "cell_type": "markdown",
   "id": "dependent-search",
   "metadata": {},
   "source": [
    "### Respuesta \n",
    " La respuesta es:\n",
    "> $\\text{La probabilidad de que la suma sea 7:  0.12757}$\n",
    "\n",
    "> $\\text{La probabilidad de que la suma sea 14: 0.01385}$\n",
    "\n",
    "> $\\text{La probabilidad de que la suma sea 18: 1e-05}$\n",
    "\n",
    "$$\\text{Con estos dados lo menos probable es que la suma de 18 ($\\%$ a la larga), mientras que solo hay el 1.3$\\%$ de}$$  $$\\text{probabilidad de obtener 14 y se cuenta con el 12.7$\\%$ de probabilidad de obtener 7, si solo hay estas opciones lo mejor es jugar poor el 7.}$$"
   ]
  },
  {
   "cell_type": "markdown",
   "id": "weird-person",
   "metadata": {},
   "source": [
    "### Solución 1: Ivette Landaverde"
   ]
  },
  {
   "cell_type": "code",
   "execution_count": null,
   "id": "frozen-lingerie",
   "metadata": {},
   "outputs": [],
   "source": []
  },
  {
   "cell_type": "markdown",
   "id": "productive-chick",
   "metadata": {},
   "source": [
    "### Respuesta \n",
    " La respuesta es:"
   ]
  },
  {
   "cell_type": "markdown",
   "id": "grave-associate",
   "metadata": {},
   "source": [
    "# 2 Ejercicio de aplicación- Cafetería Central\n",
    "\n",
    "Premisas para la simulación:\n",
    "- Negocio de alimentos que vende bebidas y alimentos.\n",
    "- Negocio dentro del ITESO.\n",
    "- Negocio en cafetería central.\n",
    "- Tipo de clientes (hombres y mujeres).\n",
    "- Rentabilidad del 60%.\n",
    "\n",
    "## Objetivo\n",
    "Realizar una simulación estimado el tiempo medio que se tardaran los clientes en ser atendidos entre el horario de 6:30 a 1 pm. Además saber el consumo. \n",
    "**Analizar supuestos y limitantes**"
   ]
  },
  {
   "cell_type": "markdown",
   "id": "permanent-pleasure",
   "metadata": {},
   "source": [
    "## Supuestos en simulación\n",
    "Clasificación de clientes: \n",
    "- Mujer  = 1 $\\longrightarrow$ aleatorio < 0.5\n",
    "- Hombre = 0 $\\longrightarrow$ aleatorio $\\geq$ 0.5.\n",
    "\n",
    "Condiciones iniciales:\n",
    "- Todas las distrubuciones de probabilidad se supondrán uniformes.\n",
    "- Tiempo de simulación: 6:30 am - 1:30pm $\\longrightarrow$ T = 7 horas = 25200 seg.\n",
    "- Tiempo de llegada hasta ser atendido: Min=5seg, Max=30seg.\n",
    "- Tiempo que tardan los clientes en ser atendidos:\n",
    "    - Mujer: Min = 1 min= 60seg, Max = 5 min = 300 seg\n",
    "    - Hombre: Min = 40 seg, Max = 2 min= 120 seg\n",
    "- Consumo según el tipo de cliente:\n",
    "    - Mujer: Min = 30 pesos, Max = 100 pesos\n",
    "    - Hombre: Min = 20 pesos, Max = 80 pesos\n",
    "\n",
    "Responder las siguientes preguntas basados en los datos del problema:\n",
    "1. ¿Cuáles fueron los gastos de los hombres y las mujeres en 5 días de trabajo?.\n",
    "2. ¿Cuál fue el consumo promedio de los hombres y mujeres?\n",
    "3. ¿Cuál fue el número de personas atendidas por día?\n",
    "4. ¿Cuál fue el tiempo de atención promedio?\n",
    "5. ¿Cuánto fue la ganancia promedio de la cafetería en 5 días de trabajo y su respectiva rentabilidad?"
   ]
  },
  {
   "cell_type": "code",
   "execution_count": 7,
   "id": "upper-month",
   "metadata": {},
   "outputs": [],
   "source": [
    "################## Datos del problema\n",
    "d = 5\n",
    "T =25200\n",
    "T_at_min = 5; T_at_max = 30\n",
    "T_mujer_min =60; T_mujer_max = 300\n",
    "T_hombre_min = 40; T_hombre_max = 120\n",
    "C_mujer_min = 30; C_mujer_max = 100\n",
    "C_hombre_min = 20; C_hombre_max = 80\n"
   ]
  },
  {
   "cell_type": "markdown",
   "id": "loved-fiction",
   "metadata": {},
   "source": [
    "### Solución 2: Moisés Flores"
   ]
  },
  {
   "cell_type": "code",
   "execution_count": 8,
   "id": "connected-syntax",
   "metadata": {},
   "outputs": [
    {
     "data": {
      "text/plain": [
       "array([97.43633923, 97.17383089, 97.95434801, 97.48786087, 97.8029369 ])"
      ]
     },
     "execution_count": 8,
     "metadata": {},
     "output_type": "execute_result"
    }
   ],
   "source": [
    "###### Solución\n",
    "###### Solución\n",
    "#Primero simulamos el tiempo de atención total de un hombre\n",
    "#Planteamos 10,000 escenarios\n",
    "escenarios = 10000\n",
    "#Se simulará el tiempo hasta ser atendido en 5 días \n",
    "tiempo_total_atencion_hombre = st.uniform(loc=(T_at_min + T_hombre_min),\n",
    "                                       scale=(T_at_max + T_hombre_max) - (T_at_min + T_hombre_min) ).rvs(size=[escenarios,d])\n",
    "#Obtenemos la media del tiempo hasta ser atendido por cada día\n",
    "tiempo_total_atencion_hombre_media =  tiempo_total_atencion_hombre.mean(axis=0)\n",
    "tiempo_total_atencion_hombre_media"
   ]
  },
  {
   "cell_type": "code",
   "execution_count": 9,
   "id": "hispanic-gamma",
   "metadata": {},
   "outputs": [
    {
     "data": {
      "text/plain": [
       "array([197.79237896, 197.6476922 , 198.02392944, 197.93512485,\n",
       "       197.53529993])"
      ]
     },
     "execution_count": 9,
     "metadata": {},
     "output_type": "execute_result"
    }
   ],
   "source": [
    "#Primero simulamos el tiempo de atención total de un mujer\n",
    "#Planteamos 10,000 escenarios\n",
    "escenarios = 10000\n",
    "#Se simulará el tiempo hasta ser atendido en 5 días \n",
    "tiempo_total_atencion_mujer = st.uniform(loc=(T_at_min + T_mujer_min),\n",
    "                                       scale=(T_at_max + T_mujer_max) - (T_at_min + T_mujer_min) ).rvs(size=[escenarios,d])\n",
    "#Obtenemos la media del tiempo hasta ser atendido por cada día\n",
    "tiempo_total_atencion_mujer_media =  tiempo_total_atencion_mujer.mean(axis=0)\n",
    "tiempo_total_atencion_mujer_media"
   ]
  },
  {
   "cell_type": "code",
   "execution_count": 10,
   "id": "appointed-transcript",
   "metadata": {},
   "outputs": [
    {
     "data": {
      "text/plain": [
       "array([147.61435909, 147.41076154, 147.98913873, 147.71149286,\n",
       "       147.66911841])"
      ]
     },
     "execution_count": 10,
     "metadata": {},
     "output_type": "execute_result"
    }
   ],
   "source": [
    "#Obtenemos el tiempo promedio en que una persona (sin importar género) \n",
    "#tarda en la cafeteria por cada día, es decir, desde esperar hasta ser atendida\n",
    "#como en ser atendia\n",
    "tiempo_total_medio = (tiempo_total_atencion_hombre_media + tiempo_total_atencion_mujer_media)/2\n",
    "tiempo_total_medio"
   ]
  },
  {
   "cell_type": "code",
   "execution_count": 11,
   "id": "floating-visiting",
   "metadata": {},
   "outputs": [
    {
     "data": {
      "text/plain": [
       "array([171., 171., 170., 171., 171.])"
      ]
     },
     "execution_count": 11,
     "metadata": {},
     "output_type": "execute_result"
    }
   ],
   "source": [
    "#Ahora podemos obtener el numero de personas que fueron atendidas por día\n",
    "personas_atendidas_por_dia = np.array(list(map(lambda x: T/x,tiempo_total_medio)))\n",
    "np.round(personas_atendidas_por_dia)"
   ]
  },
  {
   "cell_type": "code",
   "execution_count": 12,
   "id": "lovely-deviation",
   "metadata": {},
   "outputs": [
    {
     "name": "stdout",
     "output_type": "stream",
     "text": [
      "Estos son los hombres por día simulando 10k escenarios \n",
      "diferentes cada día:[82, 74, 86, 80, 88]\n",
      "Estos son las mujeres por día simulando 10k escenarios \n",
      "diferentes cada día:[88, 96, 84, 90, 82]\n"
     ]
    }
   ],
   "source": [
    "#Primero simulamos el numero de mujeres y el numero de hombres que asistieron por día\n",
    "def escenarios_genero_x_dia(asistentes_diarios):\n",
    "    return st.uniform(loc=0, scale=1).rvs(size=[escenarios,asistentes_diarios])\n",
    "esc_gen_x_dia_distribucion = list(map(lambda x:escenarios_genero_x_dia(int(x)).mean(axis=0),personas_atendidas_por_dia))\n",
    "### Ahora obtenemos por día hombres y mujeres\n",
    "vec_hombres_x_cada_día = list((map(lambda x:len(x[x>=0.5]),esc_gen_x_dia_distribucion)))\n",
    "vec_mujeres_x_cada_día = list((map(lambda x:len(x[x<0.5]),esc_gen_x_dia_distribucion)))\n",
    "print(f\"\"\"Estos son los hombres por día simulando 10k escenarios \n",
    "diferentes cada día:{vec_hombres_x_cada_día}\"\"\")\n",
    "print(f\"\"\"Estos son las mujeres por día simulando 10k escenarios \n",
    "diferentes cada día:{vec_mujeres_x_cada_día}\"\"\")"
   ]
  },
  {
   "cell_type": "markdown",
   "id": "unknown-swift",
   "metadata": {},
   "source": [
    "Ya que se calculo el numero de personas atendidas por día y su género podemos responder las preguntas"
   ]
  },
  {
   "cell_type": "markdown",
   "id": "forced-lambda",
   "metadata": {},
   "source": [
    "1. ¿Cuáles fueron los gastos de los hombres y las mujeres en 5 días de trabajo?."
   ]
  },
  {
   "cell_type": "code",
   "execution_count": 13,
   "id": "historical-cedar",
   "metadata": {},
   "outputs": [
    {
     "name": "stdout",
     "output_type": "stream",
     "text": [
      "Esto es lo que gastaría por día: [4100.678265156535, 3699.8500601201727, 4298.086869105967, 3999.384460518998, 4400.165372767174]\n",
      "Esto es lo que gastarían en total en los 5 días: 20498.165027668845\n"
     ]
    }
   ],
   "source": [
    "### Hombres\n",
    "def esc_gasto_hombre_x_dia(hombres_diarios):\n",
    "    return st.uniform(loc=C_hombre_min, scale=C_hombre_max-C_hombre_min).rvs(\n",
    "        size=[escenarios,hombres_diarios])\n",
    "esc_gasto_H_x_dia = list(map(lambda x:esc_gasto_hombre_x_dia(int(x)).mean(axis=0),vec_hombres_x_cada_día))\n",
    "##Ahora calculamos la suma del gasto de cada hombre\n",
    "suma_gasto_H_x_dia = list(map(lambda x: x.sum(),esc_gasto_H_x_dia))\n",
    "print(f'Esto es lo que gastaría por día: {suma_gasto_H_x_dia}')\n",
    "print(f'Esto es lo que gastarían en total en los 5 días: {np.array(suma_gasto_H_x_dia).sum()}')"
   ]
  },
  {
   "cell_type": "code",
   "execution_count": 14,
   "id": "super-surfing",
   "metadata": {},
   "outputs": [
    {
     "name": "stdout",
     "output_type": "stream",
     "text": [
      "Esto es lo que gastaría por día: [5718.356513560944, 6238.165318211821, 5461.730125431099, 5853.25305291095, 5329.3448168813175]\n",
      "Esto es lo que gastarían en total en los 5 días: 28600.849826996135\n"
     ]
    }
   ],
   "source": [
    "### Mujeres\n",
    "def esc_gasto_mujer_x_dia(mujeres_diarios):\n",
    "    return st.uniform(loc=C_mujer_min, scale=C_mujer_max-C_mujer_min).rvs(\n",
    "        size=[escenarios,mujeres_diarios])\n",
    "esc_gasto_M_x_dia = list(map(lambda x:esc_gasto_mujer_x_dia(int(x)).mean(axis=0),vec_mujeres_x_cada_día))\n",
    "##Ahora calculamos la suma del gasto de cada hombre\n",
    "suma_gasto_M_x_dia = list(map(lambda x: x.sum(),esc_gasto_M_x_dia))\n",
    "print(f'Esto es lo que gastaría por día: {suma_gasto_M_x_dia}')\n",
    "print(f'Esto es lo que gastarían en total en los 5 días: {np.array(suma_gasto_M_x_dia).sum()}')"
   ]
  },
  {
   "cell_type": "markdown",
   "id": "fantastic-graham",
   "metadata": {},
   "source": [
    "2. ¿Cuál fue el consumo promedio de los hombres y mujeres?"
   ]
  },
  {
   "cell_type": "code",
   "execution_count": 15,
   "id": "revised-qatar",
   "metadata": {},
   "outputs": [
    {
     "name": "stdout",
     "output_type": "stream",
     "text": [
      "Esto es lo que consumen cada hombre en promedio por día: [50.00827152629921, 49.99797378540774, 49.97775429192985, 49.992305756487475, 50.00187923599061]\n",
      "Esto es lo que consumen cada hombre en promedio en los 5 días: 249.97818459611486\n"
     ]
    }
   ],
   "source": [
    "#Hombres\n",
    "promedio_gasto_H_x_dia = list(map(lambda x: x.mean(),esc_gasto_H_x_dia))\n",
    "print(f'Esto es lo que consumen cada hombre en promedio por día: {promedio_gasto_H_x_dia}')\n",
    "print(f'Esto es lo que consumen cada hombre en promedio en los 5 días: {np.array(promedio_gasto_H_x_dia).sum()}')"
   ]
  },
  {
   "cell_type": "code",
   "execution_count": 16,
   "id": "indian-shame",
   "metadata": {},
   "outputs": [
    {
     "name": "stdout",
     "output_type": "stream",
     "text": [
      "Esto es lo que consumen en promedio por día: [64.981324017738, 64.98088873137313, 65.0205967313226, 65.03614503234388, 64.99200996196728]\n",
      "Esto es lo que consumen en promedio en los 5 días: 325.0109644747449\n"
     ]
    }
   ],
   "source": [
    "#Mujeres\n",
    "promedio_gasto_M_x_dia = list(map(lambda x: x.mean(),esc_gasto_M_x_dia))\n",
    "print(f'Esto es lo que consumen en promedio por día: {promedio_gasto_M_x_dia}')\n",
    "print(f'Esto es lo que consumen en promedio en los 5 días: {np.array(promedio_gasto_M_x_dia).sum()}')"
   ]
  },
  {
   "cell_type": "markdown",
   "id": "extraordinary-commander",
   "metadata": {},
   "source": [
    "3. ¿Cuál fue el número de personas atendidas por día?"
   ]
  },
  {
   "cell_type": "code",
   "execution_count": 17,
   "id": "muslim-expense",
   "metadata": {},
   "outputs": [
    {
     "name": "stdout",
     "output_type": "stream",
     "text": [
      "Número de personas atendidas por día: [171. 171. 170. 171. 171.]\n"
     ]
    }
   ],
   "source": [
    "# Este dato se obtuvo de dividir el tiempo durante el que está abierto el negocio\n",
    "# dividido entre la suma de las simulación del tiempo medio hasta ser atendido de cada dia\n",
    "# más el tiempo en ser atendido de cada día (el cálculo se encuentra al inicio)\n",
    "personas_atendidas_por_día = np.array(list(map(lambda x: T/x,tiempo_total_medio)))\n",
    "print(f'Número de personas atendidas por día: {np.round(personas_atendidas_por_día)}')"
   ]
  },
  {
   "cell_type": "markdown",
   "id": "muslim-garlic",
   "metadata": {},
   "source": [
    "4. ¿Cuál fue el tiempo de atención promedio?"
   ]
  },
  {
   "cell_type": "code",
   "execution_count": 18,
   "id": "bulgarian-particular",
   "metadata": {},
   "outputs": [
    {
     "name": "stdout",
     "output_type": "stream",
     "text": [
      " Tiempo promedio de atención diario: [147.61435909 147.41076154 147.98913873 147.71149286 147.66911841] y tiempo medio general en ser atendido en los 5 días: 147.6789741276661\n"
     ]
    }
   ],
   "source": [
    "# Este dato se obtuvo de la suma de la simulación del tiemmpo hasta ser atendido\n",
    "# más la simulación del tiempo medio en ser atendido\n",
    "tiempo_total_medio = (tiempo_total_atencion_hombre_media + tiempo_total_atencion_mujer_media)/2\n",
    "print(f\"\"\" Tiempo promedio de atención diario: {tiempo_total_medio} y tiempo medio general en ser atendido en los 5 días: {tiempo_total_medio.mean()}\"\"\")"
   ]
  },
  {
   "cell_type": "markdown",
   "id": "parliamentary-lambda",
   "metadata": {},
   "source": [
    "5. ¿Cuánto fue la ganancia promedio de la cafetería en 5 días de trabajo y su respectiva rentabilidad?"
   ]
  },
  {
   "cell_type": "code",
   "execution_count": 19,
   "id": "motivated-spotlight",
   "metadata": {},
   "outputs": [
    {
     "name": "stdout",
     "output_type": "stream",
     "text": [
      "Ganancia promedio de cada día [9819.03477872 9938.01537833 9759.81699454 9852.63751343 9729.51018965] \n",
      "      En Total:49099.01485466498 \n"
     ]
    }
   ],
   "source": [
    "# La ganacia promedio de la cafeteria es el resultado de la suma de los gastos medios \n",
    "# por día tanto de hombres como de mujeres\n",
    "suma_H_mas_M = np.array(suma_gasto_H_x_dia) + np.array(suma_gasto_M_x_dia)\n",
    "print(f\"\"\"Ganancia promedio de cada día {suma_H_mas_M} \n",
    "      En Total:{suma_H_mas_M.sum()} \"\"\")"
   ]
  },
  {
   "cell_type": "code",
   "execution_count": 20,
   "id": "unable-cooperative",
   "metadata": {},
   "outputs": [
    {
     "name": "stdout",
     "output_type": "stream",
     "text": [
      "Ganancia promedio de cada día [5891.42086723 5962.809227   5855.89019672 5911.58250806 5837.70611379]\n",
      "      En Total:29459.408912798986 \n"
     ]
    }
   ],
   "source": [
    "# La rentabilidad promedio de la cafeteria sería el 60% de estás sumas\n",
    "print(f\"\"\"Ganancia promedio de cada día {suma_H_mas_M * 0.6}\n",
    "      En Total:{suma_H_mas_M.sum()*0.6} \"\"\")"
   ]
  },
  {
   "cell_type": "markdown",
   "id": "fundamental-yellow",
   "metadata": {},
   "source": [
    "### Respuesta \n",
    "\n",
    "1. ¿Cuáles fueron los gastos de los hombres y las mujeres en 5 días de trabajo?.\n",
    "> Esto es lo que gastaría por día: [4100.678265156535, 3699.8500601201727, 4298.086869105967, 3999.384460518998, 4400.165372767174] Esto es lo que gastarían en total en los 5 días: 20498.165027668845\n",
    "2. ¿Cuál fue el consumo promedio de los hombres y mujeres?\n",
    "> Esto es lo que consumen cada hombre en promedio por día: [50.00827152629921, 49.99797378540774, 49.97775429192985, 49.992305756487475, 50.00187923599061] Esto es lo que consumen cada hombre en promedio en los 5 días: 249.97818459611486\n",
    "3. ¿Cuál fue el número de personas atendidas por día?\n",
    "> Número de personas atendidas por día: [171. 171. 170. 171. 171.]\n",
    "4. ¿Cuál fue el tiempo de atención promedio?\n",
    "> Tiempo promedio de atención diario: [147.61435909 147.41076154 147.98913873 147.71149286 147.66911841] y tiempo medio general en ser atendido en los 5 días: 147.6789741276661\n",
    "5. ¿Cuánto fue la ganancia promedio de la cafetería en 5 días de trabajo y su respectiva rentabilidad?\n",
    ">Ganancia promedio de cada día [5891.42086723 5962.809227   5855.89019672 5911.58250806 5837.70611379] En Total:29459.408912798986 "
   ]
  },
  {
   "cell_type": "markdown",
   "id": "impressed-whole",
   "metadata": {},
   "source": [
    "### Solución 2: Ivette Landaverde"
   ]
  },
  {
   "cell_type": "code",
   "execution_count": 21,
   "id": "global-minority",
   "metadata": {},
   "outputs": [],
   "source": [
    "###### Solución"
   ]
  },
  {
   "cell_type": "markdown",
   "id": "presidential-practice",
   "metadata": {},
   "source": [
    "### Respuesta \n",
    " La respuesta es:"
   ]
  }
 ],
 "metadata": {
  "kernelspec": {
   "display_name": "Python 3",
   "language": "python",
   "name": "python3"
  },
  "language_info": {
   "codemirror_mode": {
    "name": "ipython",
    "version": 3
   },
   "file_extension": ".py",
   "mimetype": "text/x-python",
   "name": "python",
   "nbconvert_exporter": "python",
   "pygments_lexer": "ipython3",
   "version": "3.8.5"
  }
 },
 "nbformat": 4,
 "nbformat_minor": 5
}
